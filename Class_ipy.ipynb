{
  "nbformat": 4,
  "nbformat_minor": 0,
  "metadata": {
    "colab": {
      "provenance": []
    },
    "kernelspec": {
      "name": "python3",
      "display_name": "Python 3"
    },
    "language_info": {
      "name": "python"
    }
  },
  "cells": [
    {
      "cell_type": "code",
      "execution_count": 4,
      "metadata": {
        "id": "LeibYwkB954P"
      },
      "outputs": [],
      "source": [
        "from MultipleFunctions import MultipleFunctions\n",
        "#from filename import className"
      ]
    },
    {
      "cell_type": "code",
      "source": [
        "MultipleFunctions.percentage()\n",
        "#className.FunctionName()"
      ],
      "metadata": {
        "colab": {
          "base_uri": "https://localhost:8080/"
        },
        "id": "czmwEWIA-tlm",
        "outputId": "a19bc55e-b349-4111-9e84-b3aa010a3c90"
      },
      "execution_count": 6,
      "outputs": [
        {
          "output_type": "stream",
          "name": "stdout",
          "text": [
            "Subject 1: 67\n",
            "Subject 2: 78\n",
            "Subject 3: 89\n",
            "Subject 4: 90\n",
            "Subject 5: 93\n",
            "Total: 417\n",
            "Percentage: 83.39999999999999\n"
          ]
        }
      ]
    },
    {
      "cell_type": "code",
      "source": [
        "multipleFunctions.Subfields()\n",
        "#className.FunctionName()"
      ],
      "metadata": {
        "colab": {
          "base_uri": "https://localhost:8080/"
        },
        "id": "eu2odmQDLzix",
        "outputId": "23224e7a-52eb-421d-fadf-3ef7bd24388f"
      },
      "execution_count": 10,
      "outputs": [
        {
          "output_type": "stream",
          "name": "stdout",
          "text": [
            "Sub-fields in AI are:\n",
            "Machine Learning\n",
            "Neural Networks\n",
            "Vision\n",
            "Robotics\n",
            "Speech Processing\n",
            "Natural Language Processing\n"
          ]
        }
      ]
    },
    {
      "cell_type": "code",
      "source": [
        "multipleFunctions.OddEven()\n",
        "#className.FunctionName()"
      ],
      "metadata": {
        "colab": {
          "base_uri": "https://localhost:8080/"
        },
        "id": "q9PWcAFrPQvO",
        "outputId": "991207fb-2f42-42a0-c082-c5ac5677619e"
      },
      "execution_count": 11,
      "outputs": [
        {
          "output_type": "stream",
          "name": "stdout",
          "text": [
            "Enter a number: 5\n",
            "5 is odd number\n"
          ]
        }
      ]
    },
    {
      "cell_type": "code",
      "source": [
        "multipleFunctions.Eligible()\n",
        "#className.FunctionName()"
      ],
      "metadata": {
        "colab": {
          "base_uri": "https://localhost:8080/"
        },
        "id": "wau7dONAPb_8",
        "outputId": "bb59a565-5eb9-48cc-f34e-2b498a739d42"
      },
      "execution_count": 12,
      "outputs": [
        {
          "output_type": "stream",
          "name": "stdout",
          "text": [
            "Your Gender: Male\n",
            "Your Age: 29\n",
            "Eligible\n"
          ]
        }
      ]
    },
    {
      "cell_type": "code",
      "source": [
        "multipleFunctions.triangle()\n",
        "#className.FunctionName()"
      ],
      "metadata": {
        "colab": {
          "base_uri": "https://localhost:8080/"
        },
        "id": "HKdOrKtyPl2u",
        "outputId": "baeb3ea5-624f-492c-93c1-fd45b747e448"
      },
      "execution_count": 13,
      "outputs": [
        {
          "output_type": "stream",
          "name": "stdout",
          "text": [
            "Height: 78\n",
            "Breadth: 87\n",
            "AreaFormula:(Height*Breadth)/2\n",
            "Area of Triangle: 3393.0\n",
            "Height1: 12\n",
            "Height2: 13\n",
            "Breadth: 34\n",
            "PerimeterFormula=Height1+Height2+Breadth\n",
            "Perimeter of Triangle: 59\n"
          ]
        }
      ]
    }
  ]
}